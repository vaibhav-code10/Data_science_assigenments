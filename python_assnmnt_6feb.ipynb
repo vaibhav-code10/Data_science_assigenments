{
 "cells": [
  {
   "cell_type": "markdown",
   "id": "2078bf6f-ed8e-4d12-a7ed-8fdb9cfedf77",
   "metadata": {},
   "source": [
    "Q1. Create a function which will take a list as an argument and return the product of all the numbers\n",
    "after creating a flat list.\n",
    "Use the below-given list as an argument for your function.\n",
    "list1 = [1,2,3,4, [44,55,66, True], False, (34,56,78,89,34), {1,2,3,3,2,1}, {1:34, \"key2\": [55, 67, 78, 89], 4: (45,\n",
    "22, 61, 34)}, [56, 'data science'], 'Machine Learning']\n",
    "Note: you must extract numeric keys and values of the dictionary also."
   ]
  },
  {
   "cell_type": "code",
   "execution_count": 4,
   "id": "4bdc7043-2f68-48d9-a32e-38c4ff423876",
   "metadata": {},
   "outputs": [],
   "source": [
    "def pro(lst):\n",
    "    lst1=[]\n",
    "    \n",
    "    prod1=1\n",
    "    for i in lst:\n",
    "        if type(i)==int:\n",
    "            lst1.append(i)\n",
    "        elif type(i)==list:\n",
    "            for j in i:\n",
    "                if type(j)==int:\n",
    "                    lst1.append(j)\n",
    "        elif type(i)==tuple:\n",
    "            for k in i:\n",
    "                if type(k)==int:\n",
    "                    lst1.append(k)\n",
    "        elif type(i)==set:\n",
    "            for l in i:\n",
    "                if type(l)==int:\n",
    "                    lst1.append(l)\n",
    "        elif type(i)==dict:\n",
    "            for m in i.keys():\n",
    "                if type(m)==int:\n",
    "                    lst1.append(m)\n",
    "            for g in i.values():\n",
    "                if type(g)==int:\n",
    "                    lst1.append(g)\n",
    "                elif type(g)==list or type(g)==tuple:\n",
    "                    for s in g:\n",
    "                        if type(s)==int:\n",
    "                            lst1.append(s)\n",
    "           \n",
    "    print( lst1)\n",
    "    \n",
    "    for z in lst1:\n",
    "        prod1=prod1*z\n",
    "    \n",
    "    return prod1"
   ]
  },
  {
   "cell_type": "code",
   "execution_count": 5,
   "id": "75982e97-287c-4f8e-ae41-800383d09434",
   "metadata": {},
   "outputs": [
    {
     "name": "stdout",
     "output_type": "stream",
     "text": [
      "[1, 2, 3, 4, 44, 55, 66, 34, 56, 78, 89, 34, 1, 2, 3, 1, 4, 34, 55, 67, 78, 89, 45, 22, 61, 34, 56]\n",
      "4134711838987085478833841242112000\n"
     ]
    }
   ],
   "source": [
    "ls=pro([1,2,3,4, [44,55,66, True], False, (34,56,78,89,34), {1,2,3,3,2,1}, {1:34, \"key2\": [55, 67, 78, 89], 4: (45, 22, 61, 34)}, [56, 'data science'], 'Machine Learning'] )\n",
    "print(ls)"
   ]
  },
  {
   "cell_type": "markdown",
   "id": "2c5a3312-094d-43c8-8b9a-d7a9249c79d3",
   "metadata": {},
   "source": [
    "Q2. Write a python program for encrypting a message sent to you by your friend. The logic of encryption should be such that, for a the output should be z. For b, the output should be y. For c, the output should be x respectively. Also, the whitespace should be replaced with a dollar sign. Keep the punctuation marks unchanged. Input Sentence: I want to become a Data Scientist. Encrypt the above input sentence using the program you just created. Note: Convert the given input sentence into lowercase before encrypting. The final output should be lowercase."
   ]
  },
  {
   "cell_type": "code",
   "execution_count": 8,
   "id": "ecb4ceb7-9b29-4d36-9a70-7100f6d60221",
   "metadata": {},
   "outputs": [],
   "source": [
    "def encrypt_message(message):\n",
    "    encrypted_message = \"\"\n",
    "    for char in message:\n",
    "        if char.isalpha():\n",
    "            if char.isupper():\n",
    "                encrypted_char = chr(ord('Z') - (ord(char) - ord('A')))\n",
    "            else:\n",
    "                encrypted_char = chr(ord('z') - (ord(char) - ord('a')))\n",
    "        elif char == ' ':\n",
    "            encrypted_char = '$'\n",
    "        else:\n",
    "            encrypted_char = char\n",
    "        encrypted_message += encrypted_char\n",
    "    return encrypted_message.lower()\n",
    "\n"
   ]
  },
  {
   "cell_type": "code",
   "execution_count": 9,
   "id": "9687ec57-2a44-4f06-b680-bd3851c89b4f",
   "metadata": {},
   "outputs": [
    {
     "name": "stdout",
     "output_type": "stream",
     "text": [
      "r$dzmg$gl$yvxlnv$z$wzgz$hxrvmgrhg.\n"
     ]
    }
   ],
   "source": [
    "input_sentence = \"I want to become a Data Scientist.\"\n",
    "encrypted_sentence = encrypt_message(input_sentence.lower())\n",
    "print(encrypted_sentence)"
   ]
  },
  {
   "cell_type": "code",
   "execution_count": null,
   "id": "7f5884a6-59e6-49f7-ad11-d5cce371a59e",
   "metadata": {},
   "outputs": [],
   "source": []
  }
 ],
 "metadata": {
  "kernelspec": {
   "display_name": "Python 3 (ipykernel)",
   "language": "python",
   "name": "python3"
  },
  "language_info": {
   "codemirror_mode": {
    "name": "ipython",
    "version": 3
   },
   "file_extension": ".py",
   "mimetype": "text/x-python",
   "name": "python",
   "nbconvert_exporter": "python",
   "pygments_lexer": "ipython3",
   "version": "3.10.8"
  }
 },
 "nbformat": 4,
 "nbformat_minor": 5
}
