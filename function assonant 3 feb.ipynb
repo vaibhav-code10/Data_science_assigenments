{
 "cells": [
  {
   "cell_type": "code",
   "execution_count": 1,
   "id": "f73132da-121d-4b89-9bfe-cc2b557d2e18",
   "metadata": {},
   "outputs": [],
   "source": [
    "# Which keyword is used to create a function? Create a function to return a list of odd numbers in the\n",
    "#range of 1 to 25."
   ]
  },
  {
   "cell_type": "code",
   "execution_count": 6,
   "id": "278ba047-4d5f-4580-84fc-41019cd151d4",
   "metadata": {},
   "outputs": [],
   "source": [
    "# def keyword is used to create a function\n",
    "def fn1():\n",
    "    lst=[]\n",
    "    for i in range(25):\n",
    "        if i%2!=0:\n",
    "            lst.append(i)\n",
    "    return lst"
   ]
  },
  {
   "cell_type": "code",
   "execution_count": 7,
   "id": "57ac8ab3-104c-4f71-89ee-c7880c7ae1b5",
   "metadata": {},
   "outputs": [
    {
     "data": {
      "text/plain": [
       "[1, 3, 5, 7, 9, 11, 13, 15, 17, 19, 21, 23]"
      ]
     },
     "execution_count": 7,
     "metadata": {},
     "output_type": "execute_result"
    }
   ],
   "source": [
    "fn1()"
   ]
  },
  {
   "cell_type": "code",
   "execution_count": null,
   "id": "ff4be44d-b7fe-4f54-9b28-0ea6bde6abd8",
   "metadata": {},
   "outputs": [],
   "source": [
    "# Q2. Why *args and **kwargs is used in some functions? Create a function each for *args and **kwargs to\n",
    "# demonstrate their use."
   ]
  },
  {
   "cell_type": "code",
   "execution_count": 24,
   "id": "8922dd13-1b1f-461e-898f-a071626e690f",
   "metadata": {},
   "outputs": [],
   "source": [
    "# *args allow us to pass the variable number of non keyword arguments to function.\n",
    "# **kwargs allows us to pass the variable length of keyword arguments to the function.\n",
    "def ad1(*args):\n",
    "    sm=0\n",
    "    for i in args:\n",
    "        sm=sm+i\n",
    "    return sm\n",
    "def ts1(** args):\n",
    "    lst=[]\n",
    "    for i in args.keys():\n",
    "        lst.append(args.keys())\n",
    "    return lst"
   ]
  },
  {
   "cell_type": "code",
   "execution_count": 22,
   "id": "dc46cb6f-59f0-4feb-99e0-20236f27347f",
   "metadata": {},
   "outputs": [
    {
     "data": {
      "text/plain": [
       "22"
      ]
     },
     "execution_count": 22,
     "metadata": {},
     "output_type": "execute_result"
    }
   ],
   "source": [
    "ad1(8,9,2,3)\n"
   ]
  },
  {
   "cell_type": "code",
   "execution_count": 25,
   "id": "e1350ad4-ccbb-4aa2-894e-3a8dcf2929f2",
   "metadata": {},
   "outputs": [
    {
     "data": {
      "text/plain": [
       "[dict_keys(['tyr', 'gt']), dict_keys(['tyr', 'gt'])]"
      ]
     },
     "execution_count": 25,
     "metadata": {},
     "output_type": "execute_result"
    }
   ],
   "source": [
    "ts1(tyr = 3, gt=5)"
   ]
  },
  {
   "cell_type": "code",
   "execution_count": null,
   "id": "7b931a30-ba6b-45e9-996a-e990d44c941a",
   "metadata": {},
   "outputs": [],
   "source": [
    "# What is an iterator in python? Name the method used to initialise the iterator object and the method\n",
    "#used for iteration. Use these methods to print the first five elements of the given list [2, 4, 6, 8, 10, 12, 14, 16,\n",
    "#18, 20]."
   ]
  },
  {
   "cell_type": "markdown",
   "id": "17eea320-8310-45a0-9148-aabfe3678d03",
   "metadata": {},
   "source": [
    "#An iterator is an object that contains a countable number of values. An iterator is an object that can be iterated upon, meaning that you can traverse through all the values. Technically, in Python, an iterator is an object which implements the iterator protocol, which consist of the methods __iter__() and __next__() ."
   ]
  },
  {
   "cell_type": "code",
   "execution_count": 26,
   "id": "fddc4d78-1ca8-437a-b8ea-df9e4204701a",
   "metadata": {},
   "outputs": [
    {
     "name": "stdout",
     "output_type": "stream",
     "text": [
      "2\n",
      "4\n",
      "6\n",
      "8\n",
      "10\n"
     ]
    }
   ],
   "source": [
    "l=[2, 4, 6, 8, 10, 12, 14, 16,18, 20]\n",
    "myit = iter(l)\n",
    "\n",
    "print(next(myit))\n",
    "print(next(myit))\n",
    "print(next(myit))\n",
    "print(next(myit))\n",
    "print(next(myit))"
   ]
  },
  {
   "cell_type": "code",
   "execution_count": null,
   "id": "c6c4795b-805d-485b-8155-456e73b550fb",
   "metadata": {},
   "outputs": [],
   "source": [
    "# What is a generator function in python? Why yield keyword is used? Give an example of a generator\n",
    "#function."
   ]
  },
  {
   "cell_type": "code",
   "execution_count": 27,
   "id": "60bf2d27-6319-4689-8c33-94da652b3e5c",
   "metadata": {},
   "outputs": [
    {
     "name": "stdout",
     "output_type": "stream",
     "text": [
      "0\n",
      "1\n",
      "2\n"
     ]
    }
   ],
   "source": [
    "#a generator is a function that returns an iterator that produces a sequence of values when iterated over\n",
    "# The yield statement returns a generator object to the one who calls the function which contains yield, instead of simply returning a value\n",
    "def my_generator(n):\n",
    "    value = 0\n",
    "    while value < n:\n",
    "        yield value\n",
    "        value += 1\n",
    "for value in my_generator(3):\n",
    "    print(value)"
   ]
  },
  {
   "cell_type": "code",
   "execution_count": null,
   "id": "e0926839-a0b1-4e1c-a0ab-5cca0cd06bcd",
   "metadata": {},
   "outputs": [],
   "source": [
    "#Create a generator function for prime numbers less than 1000. Use the next() method to print the\n",
    "#first 20 prime numbers."
   ]
  },
  {
   "cell_type": "code",
   "execution_count": 28,
   "id": "386f3e01-945f-4141-9bae-3c528f5e808a",
   "metadata": {},
   "outputs": [],
   "source": [
    "from math import sqrt\n",
    "\n",
    "def is_prime(n):\n",
    "    if (n <= 1):\n",
    "        return False\n",
    "    if (n == 2):\n",
    "        return True\n",
    "    if (n % 2 == 0):\n",
    "        return False\n",
    "\n",
    "    i = 3\n",
    "    while i <= sqrt(n):\n",
    "        if n % i == 0:\n",
    "            return False\n",
    "        i = i + 2\n",
    "\n",
    "    return True"
   ]
  },
  {
   "cell_type": "code",
   "execution_count": 29,
   "id": "7d4a3871-28b1-4f9b-a334-f4c5bcb6f71e",
   "metadata": {},
   "outputs": [],
   "source": [
    "def prime_generator():\n",
    "    n = 1\n",
    "    while True:\n",
    "        n += 1\n",
    "        if is_prime(n):\n",
    "            yield n"
   ]
  },
  {
   "cell_type": "code",
   "execution_count": 30,
   "id": "93bab585-6811-4a06-8ce0-6c53771c0a0b",
   "metadata": {},
   "outputs": [],
   "source": [
    "from itertools import islice\n",
    "\n",
    "array = [x for x in islice(prime_generator(), 20)]"
   ]
  },
  {
   "cell_type": "code",
   "execution_count": 31,
   "id": "7750ab88-7808-4ab3-84a3-0ff14f37fb0a",
   "metadata": {},
   "outputs": [
    {
     "data": {
      "text/plain": [
       "[2, 3, 5, 7, 11, 13, 17, 19, 23, 29, 31, 37, 41, 43, 47, 53, 59, 61, 67, 71]"
      ]
     },
     "execution_count": 31,
     "metadata": {},
     "output_type": "execute_result"
    }
   ],
   "source": [
    "array"
   ]
  },
  {
   "cell_type": "code",
   "execution_count": null,
   "id": "f6eebf74-1391-4bc0-b59f-d5b8994110dd",
   "metadata": {},
   "outputs": [],
   "source": []
  }
 ],
 "metadata": {
  "kernelspec": {
   "display_name": "Python 3 (ipykernel)",
   "language": "python",
   "name": "python3"
  },
  "language_info": {
   "codemirror_mode": {
    "name": "ipython",
    "version": 3
   },
   "file_extension": ".py",
   "mimetype": "text/x-python",
   "name": "python",
   "nbconvert_exporter": "python",
   "pygments_lexer": "ipython3",
   "version": "3.10.8"
  }
 },
 "nbformat": 4,
 "nbformat_minor": 5
}
