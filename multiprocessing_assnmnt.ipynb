{
 "cells": [
  {
   "cell_type": "markdown",
   "id": "501cd263-a69b-46eb-9ea8-abf7c2e5811d",
   "metadata": {},
   "source": [
    "Q1. What is multiprocessing in python? Why is it useful?"
   ]
  },
  {
   "cell_type": "markdown",
   "id": "7dfee013-2686-4fc1-94be-42818934417b",
   "metadata": {},
   "source": [
    "multiprocessing in python allows to run multiple process parallely utilizing multiple core of the system, it improves performance"
   ]
  },
  {
   "cell_type": "markdown",
   "id": "f7758f72-b25c-4b8b-952c-2e8a3805a605",
   "metadata": {},
   "source": [
    "Q2. What are the differences between multiprocessing and multithreading?"
   ]
  },
  {
   "cell_type": "markdown",
   "id": "486ac4ae-0bba-4125-9519-688e750a9adc",
   "metadata": {},
   "source": [
    "multiprocessing involves running multiple processes concurrently with separate memory spaces, achieving true parallelism. Multithreading involves running multiple threads within a single process, sharing the same memory space, and achieving concurrency but not necessarily parallelism."
   ]
  },
  {
   "cell_type": "markdown",
   "id": "b02d129a-ed09-4d73-8ab2-34c7d488ad86",
   "metadata": {},
   "source": [
    "Q3. Write a python code to create a process using the multiprocessing module."
   ]
  },
  {
   "cell_type": "code",
   "execution_count": 1,
   "id": "4ca72331-674b-4820-bbb3-13a857f6b928",
   "metadata": {},
   "outputs": [
    {
     "name": "stdout",
     "output_type": "stream",
     "text": [
      "Hello, Alice!\n",
      "Process completed.\n"
     ]
    }
   ],
   "source": [
    "import multiprocessing\n",
    "\n",
    "def process_function(name):\n",
    "    print(f\"Hello, {name}!\")\n",
    "\n",
    "if __name__ == \"__main__\":\n",
    "    # Create a new process\n",
    "    process = multiprocessing.Process(target=process_function, args=(\"Alice\",))\n",
    "\n",
    "    # Start the process\n",
    "    process.start()\n",
    "\n",
    "    # Wait for the process to finish\n",
    "    process.join()\n",
    "\n",
    "    print(\"Process completed.\")"
   ]
  },
  {
   "cell_type": "markdown",
   "id": "48750d0e-944e-425f-993a-98dd941a4197",
   "metadata": {},
   "source": [
    "Q4. What is a multiprocessing pool in python? Why is it used?"
   ]
  },
  {
   "cell_type": "markdown",
   "id": "0cb15541-31ef-4c31-84b0-95b675f12587",
   "metadata": {},
   "source": [
    " Multiprocessing pools are used to improve performance, handle independent tasks, and provide a high-level interface for parallel computing."
   ]
  },
  {
   "cell_type": "markdown",
   "id": "d1445a36-2175-452e-bcbf-3d262069c73e",
   "metadata": {},
   "source": [
    "How can we create a pool of worker processes in python using the multiprocessing module?"
   ]
  },
  {
   "cell_type": "code",
   "execution_count": 2,
   "id": "6cdcadbe-39c8-483a-afff-47e4aaaf9da9",
   "metadata": {},
   "outputs": [
    {
     "name": "stdout",
     "output_type": "stream",
     "text": [
      "Hello, Alice!\n",
      "Hello, Bob!\n",
      "Hello, Charlie!\n",
      "Hello, Dave!\n"
     ]
    }
   ],
   "source": [
    "import multiprocessing\n",
    "\n",
    "def process_function(name):\n",
    "    return f\"Hello, {name}!\"\n",
    "\n",
    "if __name__ == \"__main__\":\n",
    "    # Create a pool of worker processes with 4 processes\n",
    "    pool = multiprocessing.Pool(processes=4)\n",
    "\n",
    "    # List of input values\n",
    "    input_values = [\"Alice\", \"Bob\", \"Charlie\", \"Dave\"]\n",
    "\n",
    "    # Apply the process_function to the input values using the pool\n",
    "    results = pool.map(process_function, input_values)\n",
    "\n",
    "    # Close the pool\n",
    "    pool.close()\n",
    "\n",
    "    # Wait for all processes to finish\n",
    "    pool.join()\n",
    "\n",
    "    # Print the results\n",
    "    for result in results:\n",
    "        print(result)"
   ]
  },
  {
   "cell_type": "markdown",
   "id": "b4b33e53-0e91-4591-bc2b-7328903edbf2",
   "metadata": {},
   "source": [
    "Q6. Write a python program to create 4 processes, each process should print a different number using the\n",
    "multiprocessing module in python."
   ]
  },
  {
   "cell_type": "code",
   "execution_count": 3,
   "id": "dacf315e-2cc3-413e-bc54-04b0c2fad97a",
   "metadata": {},
   "outputs": [
    {
     "name": "stdout",
     "output_type": "stream",
     "text": [
      "1\n",
      "2\n",
      "3\n",
      "4\n"
     ]
    }
   ],
   "source": [
    "import multiprocessing\n",
    "\n",
    "def print_number(number):\n",
    "    print(number)\n",
    "\n",
    "if __name__ == \"__main__\":\n",
    "    numbers = [1, 2, 3, 4]  # List of numbers\n",
    "\n",
    "    processes = []\n",
    "    for number in numbers:\n",
    "        # Create a process for each number\n",
    "        process = multiprocessing.Process(target=print_number, args=(number,))\n",
    "        processes.append(process)\n",
    "\n",
    "    # Start all the processes\n",
    "    for process in processes:\n",
    "        process.start()\n",
    "\n",
    "    # Wait for all the processes to finish\n",
    "    for process in processes:\n",
    "        process.join()"
   ]
  },
  {
   "cell_type": "code",
   "execution_count": null,
   "id": "534a07f1-af45-4ae2-9d6b-78687fc77b72",
   "metadata": {},
   "outputs": [],
   "source": []
  }
 ],
 "metadata": {
  "kernelspec": {
   "display_name": "Python 3 (ipykernel)",
   "language": "python",
   "name": "python3"
  },
  "language_info": {
   "codemirror_mode": {
    "name": "ipython",
    "version": 3
   },
   "file_extension": ".py",
   "mimetype": "text/x-python",
   "name": "python",
   "nbconvert_exporter": "python",
   "pygments_lexer": "ipython3",
   "version": "3.10.8"
  }
 },
 "nbformat": 4,
 "nbformat_minor": 5
}
