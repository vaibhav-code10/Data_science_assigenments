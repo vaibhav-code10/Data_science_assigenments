{
 "cells": [
  {
   "cell_type": "code",
   "execution_count": 2,
   "id": "bb78ee84-eb3d-4a07-8421-ed15f81eb34f",
   "metadata": {},
   "outputs": [],
   "source": [
    "# Write a program to accept percentage from the user and display the grade according to the following criteria:\n",
    "# Marks Grade \n",
    "#'>' 90    A\n",
    "# '>'80 and <=90 B\n",
    "# >=60 and <=80 C \n",
    "# below 60 D\"\"\""
   ]
  },
  {
   "cell_type": "code",
   "execution_count": 8,
   "id": "bebf8b3e-d17b-423f-92fc-a5af5629b9bf",
   "metadata": {},
   "outputs": [
    {
     "name": "stdin",
     "output_type": "stream",
     "text": [
      "enter the percentage 81\n"
     ]
    },
    {
     "name": "stdout",
     "output_type": "stream",
     "text": [
      "grade B\n"
     ]
    }
   ],
   "source": [
    "total_percent=int (input(\"enter the percentage\"))\n",
    "if total_percent > 90 and total_percent <=100:\n",
    "    print(\"grade A\")\n",
    "elif total_percent > 80 and total_percent <= 90:\n",
    "    print(\"grade B\")\n",
    "elif total_percent >=60 and total_percent <= 80:\n",
    "    print(\"grade C\")\n",
    "elif total_percent < 60:\n",
    "    print(\"grade D\")\n",
    "else:\n",
    "    print(\"enter less than or equal to 100\")"
   ]
  },
  {
   "cell_type": "code",
   "execution_count": 9,
   "id": "20525ee8-6e7c-45f5-9d43-79d9ab172ca6",
   "metadata": {},
   "outputs": [],
   "source": [
    "# Write a program to accept the cost priceof a bike and display the road tax to be\n",
    "#paid according to the following criteria:\n",
    "# Tax  Cost Price(in Rs)\n",
    "# 15%  >100000\n",
    "# 10%  >50000 and <= 100000\n",
    "# 5%   <= 50000"
   ]
  },
  {
   "cell_type": "code",
   "execution_count": 12,
   "id": "1d67f6d4-66e0-41fb-92af-48eabc798b78",
   "metadata": {},
   "outputs": [
    {
     "name": "stdin",
     "output_type": "stream",
     "text": [
      "enter the cost price of bike 4000\n"
     ]
    },
    {
     "name": "stdout",
     "output_type": "stream",
     "text": [
      "tax is 200.0\n"
     ]
    }
   ],
   "source": [
    "bike_price=int(input(\"enter the cost price of bike\"))\n",
    "if bike_price > 100000:\n",
    "    print(\"tax is\", bike_price*.15)\n",
    "elif bike_price>50000 and bike_price<=100000:\n",
    "    print(\"tax is\", bike_price*.1)\n",
    "else:\n",
    "    print(\"tax is\", bike_price*.05)"
   ]
  },
  {
   "cell_type": "code",
   "execution_count": 1,
   "id": "cea39f96-5ebb-4d1b-9b70-eace3b2775fc",
   "metadata": {},
   "outputs": [],
   "source": [
    "# Accept anycity from the user and display monuments of that city.\n",
    "# City   Monument \n",
    "# Delhi  Red Fort\n",
    "# Agra   Taj Mahal\n",
    "# Jaipur Jal Mahal"
   ]
  },
  {
   "cell_type": "code",
   "execution_count": 3,
   "id": "9e2631a2-0d59-4ba8-8b05-307913a8e76f",
   "metadata": {},
   "outputs": [
    {
     "name": "stdin",
     "output_type": "stream",
     "text": [
      "enter the name of the city 4\n"
     ]
    },
    {
     "name": "stdout",
     "output_type": "stream",
     "text": [
      "enter the name either delhi, agra , jaipur\n"
     ]
    }
   ],
   "source": [
    "city=input(\"enter the name of the city\")\n",
    "if city== \"delhi\":\n",
    "    print(\"red fort\")\n",
    "elif city==\"agra\":\n",
    "    print (\"taj mahal\")\n",
    "elif city==\"jaipur\":\n",
    "    print(\"jal mahal\")\n",
    "else:\n",
    "    print(\"enter the name either delhi, agra , jaipur\")"
   ]
  },
  {
   "cell_type": "code",
   "execution_count": 4,
   "id": "cc5a369c-dea1-479f-b9f4-ed28c8fa9c43",
   "metadata": {},
   "outputs": [],
   "source": [
    "# Check how many times a given number can be divided by 3 before it is lesst h a nor equal to 10."
   ]
  },
  {
   "cell_type": "code",
   "execution_count": 7,
   "id": "ea8f560e-12ec-41b0-8147-95e39258ea98",
   "metadata": {},
   "outputs": [
    {
     "name": "stdin",
     "output_type": "stream",
     "text": [
      "enter the number 300\n"
     ]
    },
    {
     "name": "stdout",
     "output_type": "stream",
     "text": [
      "4\n"
     ]
    }
   ],
   "source": [
    "num=int(input(\"enter the number\"))\n",
    "count=0\n",
    "while num>10:\n",
    "    num=num/3\n",
    "    count=count+1\n",
    "print(count)"
   ]
  },
  {
   "cell_type": "code",
   "execution_count": null,
   "id": "e0addacd-db6a-41eb-b3bc-34a76dcb9fa2",
   "metadata": {},
   "outputs": [],
   "source": [
    "# Why and When to Usewhile Loop in Python give a detailed description with example"
   ]
  },
  {
   "cell_type": "markdown",
   "id": "5d00ccac-6ffe-4e98-a6e5-a6b40ba4cb58",
   "metadata": {},
   "source": [
    "Python while loop is used to run a block code until a certain condition is met.\n",
    "A while loop evaluates the condition\n",
    "If the condition evaluates to True, the code inside the while loop is executed.\n",
    "condition is evaluated again.\n",
    "This process continues until the condition is False.\n",
    "When condition evaluates to False, the loop stops.\n"
   ]
  },
  {
   "cell_type": "code",
   "execution_count": 1,
   "id": "7d90427a-e0b4-405b-be4d-781bccc79a4d",
   "metadata": {},
   "outputs": [
    {
     "name": "stdout",
     "output_type": "stream",
     "text": [
      "1\n",
      "2\n",
      "3\n",
      "4\n",
      "5\n"
     ]
    }
   ],
   "source": [
    "\n",
    "# example\n",
    "i = 1\n",
    "n = 5\n",
    "\n",
    "\n",
    "while i <= n:\n",
    "    print(i)\n",
    "    i = i + 1"
   ]
  },
  {
   "cell_type": "code",
   "execution_count": 2,
   "id": "aa4c4900-3804-42d3-8e93-24cf1e08f931",
   "metadata": {},
   "outputs": [],
   "source": [
    "# Use nested while loop to print 3 different pattern."
   ]
  },
  {
   "cell_type": "code",
   "execution_count": 3,
   "id": "9a7ee62a-e0dd-4a74-8189-0da9d2fcffb0",
   "metadata": {},
   "outputs": [
    {
     "name": "stdin",
     "output_type": "stream",
     "text": [
      "Enter number of rows :  6\n"
     ]
    },
    {
     "name": "stdout",
     "output_type": "stream",
     "text": [
      "* \n",
      "* * \n",
      "* * * \n",
      "* * * * \n",
      "* * * * * \n",
      "* * * * * * \n"
     ]
    }
   ],
   "source": [
    "n = int(input('Enter number of rows : '))\n",
    " \n",
    "i = 1\n",
    "while i <= n :\n",
    "    j = 1\n",
    "    while j <= i:\n",
    "        print(\"*\", end = \" \")\n",
    "        j += 1\n",
    "    print()\n",
    "    i += 1"
   ]
  },
  {
   "cell_type": "code",
   "execution_count": 4,
   "id": "e2cf2fcd-a145-4c39-a2cb-bea5d86a8823",
   "metadata": {},
   "outputs": [
    {
     "name": "stdin",
     "output_type": "stream",
     "text": [
      "Enter number of rows :  5\n"
     ]
    },
    {
     "name": "stdout",
     "output_type": "stream",
     "text": [
      "* * * * * \n",
      "* * * * \n",
      "* * * \n",
      "* * \n",
      "* \n"
     ]
    }
   ],
   "source": [
    "n = int(input('Enter number of rows : '))\n",
    " \n",
    "i = 1\n",
    "while i <= n :\n",
    "    j = n\n",
    "    while j >= i:\n",
    "        print(\"*\", end = \" \")\n",
    "        j -= 1\n",
    "    print()\n",
    "    i += 1"
   ]
  },
  {
   "cell_type": "code",
   "execution_count": 5,
   "id": "f51e9233-a4c4-4397-8107-5bf1eb196319",
   "metadata": {},
   "outputs": [
    {
     "name": "stdin",
     "output_type": "stream",
     "text": [
      "Enter number of rows :  5\n"
     ]
    },
    {
     "name": "stdout",
     "output_type": "stream",
     "text": [
      "  1 \n",
      "  2   3 \n",
      "  4   5   6 \n",
      "  7   8   9  10 \n",
      " 11  12  13  14  15 \n"
     ]
    }
   ],
   "source": [
    "n = int(input('Enter number of rows : '))\n",
    " \n",
    "k = 1\n",
    "i = 1\n",
    "while i <= n :\n",
    "    j = 1\n",
    "    while j <= i:\n",
    "        print(\"{:3d}\".format(k), end = \" \")\n",
    "        j += 1\n",
    "        k += 1\n",
    "    print()\n",
    "    i += 1"
   ]
  },
  {
   "cell_type": "code",
   "execution_count": 8,
   "id": "9a39653c-5d04-4a0e-84e3-3e1f083da140",
   "metadata": {},
   "outputs": [],
   "source": [
    "# Reverse a while loop to display numbers from 10 to 1."
   ]
  },
  {
   "cell_type": "code",
   "execution_count": null,
   "id": "8412dea0-5232-4e4d-bdab-0cda605c87ce",
   "metadata": {},
   "outputs": [],
   "source": []
  }
 ],
 "metadata": {
  "kernelspec": {
   "display_name": "Python 3 (ipykernel)",
   "language": "python",
   "name": "python3"
  },
  "language_info": {
   "codemirror_mode": {
    "name": "ipython",
    "version": 3
   },
   "file_extension": ".py",
   "mimetype": "text/x-python",
   "name": "python",
   "nbconvert_exporter": "python",
   "pygments_lexer": "ipython3",
   "version": "3.10.8"
  }
 },
 "nbformat": 4,
 "nbformat_minor": 5
}
