{
 "cells": [
  {
   "cell_type": "markdown",
   "id": "881f1009-3f16-47c8-8a42-68443798fdcf",
   "metadata": {},
   "source": [
    "Q1. You are writing code for a company. The requirement of the company is that you create a python\n",
    "function that will check whether the password entered by the user is correct or not. The function should\n",
    "take the password as input and return the string “Valid Password” if the entered password follows the\n",
    "below-given password guidelines else it should return “Invalid Password”.\n",
    "\n",
    "Note: 1. The Password should contain at least two uppercase letters and at least two lowercase letters.\n",
    "2 The Password should contain at least a number and three special characters.\n",
    "3 The length of the password should be 10 characters long."
   ]
  },
  {
   "cell_type": "code",
   "execution_count": 1,
   "id": "de69c6c9-01ea-471f-8a5b-1ffc04b6a8b4",
   "metadata": {},
   "outputs": [],
   "source": [
    "def passwordcheck(str1):\n",
    "    count=0\n",
    "    count1=0\n",
    "    uppercount=0\n",
    "    lowercount=0\n",
    "    numbercount=0\n",
    "    speccount=0\n",
    "    specialcount=0\n",
    "    for i in str1:\n",
    "        count=count+1\n",
    "        if i.isupper():\n",
    "            uppercount=uppercount+1\n",
    "        elif i.islower():\n",
    "            lowercount=lowercount+1\n",
    "        elif i.isdigit():\n",
    "            numbercount=numbercount+1\n",
    "        elif i.isalpha():\n",
    "            pass\n",
    "        else:\n",
    "            \n",
    "            specialcount=specialcount+1\n",
    "            \n",
    "    if (uppercount>=2 and lowercount>=2):\n",
    "        count1=count1+1\n",
    "    if (numbercount>=1 and specialcount>=3):\n",
    "         count1=count1+1\n",
    "    if count>=10:\n",
    "        count1=count1+1\n",
    "    \n",
    "    \n",
    "    if count1==3:\n",
    "        \n",
    "        return \"valid password\"\n",
    "    else:\n",
    "        return \"invalid password\""
   ]
  },
  {
   "cell_type": "code",
   "execution_count": 3,
   "id": "cafc885b-f266-4a00-8f5b-7af566bc8134",
   "metadata": {},
   "outputs": [
    {
     "data": {
      "text/plain": [
       "'valid password'"
      ]
     },
     "execution_count": 3,
     "metadata": {},
     "output_type": "execute_result"
    }
   ],
   "source": [
    "passwordcheck(\"AWse2#@$hugvgguh\")"
   ]
  },
  {
   "cell_type": "code",
   "execution_count": null,
   "id": "dee95ce3-8f7c-45ba-a118-e0a207217640",
   "metadata": {},
   "outputs": [],
   "source": []
  },
  {
   "cell_type": "markdown",
   "id": "27230ca2-79e2-4271-829d-ff8c226a3e91",
   "metadata": {},
   "source": [
    "Q2. Solve the below-given questions using at least one of the following:\n",
    "1. Lambda functioJ\n",
    "2. Filter functioJ\n",
    "3. map functioJ\n",
    "4. List ComprehensioI"
   ]
  },
  {
   "cell_type": "code",
   "execution_count": 1,
   "id": "006a0974-db2e-47df-80b2-20860c5c229a",
   "metadata": {},
   "outputs": [],
   "source": [
    "#Check if the string starts with a particular letter\n",
    "# Check if the string is numeric\n",
    "# Sort a list of tuples having fruit names and their quantity. [(\"mango\",99),(\"orange\",80), (\"grapes\", 1000)]\n",
    "# Find the squares of numbers from 1 to 10\n",
    "# Find the cube root of numbers from 1 to 10\n",
    "# Check if a given number is even\n",
    "# Filter odd numbers from the given list. [1,2,3,4,5,6,7,8,9,10]\n",
    "#Sort a list of integers into positive and negative integers lists.\n",
    "# [1,2,3,4,5,6,-1,-2,-3,-4,-5,0]"
   ]
  },
  {
   "cell_type": "code",
   "execution_count": 4,
   "id": "691c9be5-e441-4261-93bf-5b2295d31055",
   "metadata": {},
   "outputs": [
    {
     "name": "stdout",
     "output_type": "stream",
     "text": [
      "True\n"
     ]
    }
   ],
   "source": [
    "string = \"Hello\"\n",
    "letter = \"H\"\n",
    "starts_with_letter = lambda s, l: s.startswith(l)\n",
    "print(starts_with_letter(string, letter))"
   ]
  },
  {
   "cell_type": "code",
   "execution_count": 5,
   "id": "b10f4fbc-f51e-4161-8379-8800241f2efa",
   "metadata": {},
   "outputs": [
    {
     "name": "stdout",
     "output_type": "stream",
     "text": [
      "True\n"
     ]
    }
   ],
   "source": [
    "string = \"12345\"\n",
    "is_numeric = lambda s: s.isnumeric()\n",
    "print(is_numeric(string))"
   ]
  },
  {
   "cell_type": "code",
   "execution_count": 6,
   "id": "33a63236-eed7-49f4-ad3e-26184fb1c677",
   "metadata": {},
   "outputs": [
    {
     "name": "stdout",
     "output_type": "stream",
     "text": [
      "[('orange', 80), ('mango', 99), ('grapes', 1000)]\n"
     ]
    }
   ],
   "source": [
    "fruits = [(\"mango\", 99), (\"orange\", 80), (\"grapes\", 1000)]\n",
    "sorted_fruits = sorted(fruits, key=lambda x: x[1])\n",
    "print(sorted_fruits)"
   ]
  },
  {
   "cell_type": "code",
   "execution_count": 7,
   "id": "45eee863-6631-4206-a139-cc94027c3e77",
   "metadata": {},
   "outputs": [
    {
     "name": "stdout",
     "output_type": "stream",
     "text": [
      "[1, 4, 9, 16, 25, 36, 49, 64, 81, 100]\n"
     ]
    }
   ],
   "source": [
    "squares = [x**2 for x in range(1, 11)]\n",
    "print(squares)"
   ]
  },
  {
   "cell_type": "code",
   "execution_count": 8,
   "id": "c7459164-8dc0-4569-a7b3-e517337b0997",
   "metadata": {},
   "outputs": [
    {
     "name": "stdout",
     "output_type": "stream",
     "text": [
      "[1.0, 1.2599210498948732, 1.4422495703074083, 1.5874010519681994, 1.7099759466766968, 1.8171205928321397, 1.912931182772389, 2.0, 2.080083823051904, 2.154434690031884]\n"
     ]
    }
   ],
   "source": [
    "import math\n",
    "\n",
    "cube_roots = [math.pow(x, 1/3) for x in range(1, 11)]\n",
    "print(cube_roots)"
   ]
  },
  {
   "cell_type": "code",
   "execution_count": 9,
   "id": "2a2297f3-1d5f-47f8-8063-01c286c8cf9a",
   "metadata": {},
   "outputs": [
    {
     "name": "stdout",
     "output_type": "stream",
     "text": [
      "True\n"
     ]
    }
   ],
   "source": [
    "number = 6\n",
    "is_even = lambda n: n % 2 == 0\n",
    "print(is_even(number))"
   ]
  },
  {
   "cell_type": "code",
   "execution_count": 10,
   "id": "8ee1d8a9-44b2-4506-8ea2-937abdbaebd5",
   "metadata": {},
   "outputs": [
    {
     "name": "stdout",
     "output_type": "stream",
     "text": [
      "[1, 3, 5, 7, 9]\n"
     ]
    }
   ],
   "source": [
    "numbers = [1, 2, 3, 4, 5, 6, 7, 8, 9, 10]\n",
    "odd_numbers = list(filter(lambda x: x % 2 != 0, numbers))\n",
    "print(odd_numbers)"
   ]
  },
  {
   "cell_type": "code",
   "execution_count": 11,
   "id": "bd882041-fc2d-45dc-bab3-16aaf5f1ab60",
   "metadata": {},
   "outputs": [
    {
     "name": "stdout",
     "output_type": "stream",
     "text": [
      "Positive numbers: [1, 2, 3, 4, 5, 6]\n",
      "Negative numbers: [-1, -2, -3, -4, -5]\n"
     ]
    }
   ],
   "source": [
    "numbers = [1, 2, 3, 4, 5, 6, -1, -2, -3, -4, -5, 0]\n",
    "positive_numbers = list(filter(lambda x: x > 0, numbers))\n",
    "negative_numbers = list(filter(lambda x: x < 0, numbers))\n",
    "print(\"Positive numbers:\", positive_numbers)\n",
    "print(\"Negative numbers:\", negative_numbers)"
   ]
  },
  {
   "cell_type": "code",
   "execution_count": null,
   "id": "2f62e1e5-0ae9-4d1d-92b7-716d66dfd7f2",
   "metadata": {},
   "outputs": [],
   "source": []
  }
 ],
 "metadata": {
  "kernelspec": {
   "display_name": "Python 3 (ipykernel)",
   "language": "python",
   "name": "python3"
  },
  "language_info": {
   "codemirror_mode": {
    "name": "ipython",
    "version": 3
   },
   "file_extension": ".py",
   "mimetype": "text/x-python",
   "name": "python",
   "nbconvert_exporter": "python",
   "pygments_lexer": "ipython3",
   "version": "3.10.8"
  }
 },
 "nbformat": 4,
 "nbformat_minor": 5
}
