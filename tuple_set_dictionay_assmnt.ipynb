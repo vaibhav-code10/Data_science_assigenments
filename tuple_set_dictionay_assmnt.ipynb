{
 "cells": [
  {
   "cell_type": "code",
   "execution_count": 1,
   "id": "ce5c5779-f6fc-457d-abf1-08927af5c1f8",
   "metadata": {},
   "outputs": [],
   "source": [
    "# What are the characteristics of the tuples? Is tuple immutable?"
   ]
  },
  {
   "cell_type": "markdown",
   "id": "a8cb1527-a145-498e-89b4-3b8c7c5f6ebf",
   "metadata": {},
   "source": [
    "Tuples are a data type that belongs to the sequence data type category. They're similar to lists in Python, but they have the property of being immutable. We can't change the elements of a tuple, but we can execute a variety of actions on them such as count, index, type, etc."
   ]
  },
  {
   "cell_type": "code",
   "execution_count": null,
   "id": "fb44e2c1-bf3c-4664-aa60-6999482cde84",
   "metadata": {},
   "outputs": [],
   "source": [
    "# What are the two tuple methods in python? Give an example of each method. Give a reason why tuples have only two in-built methods as compared to Lists."
   ]
  },
  {
   "cell_type": "code",
   "execution_count": 3,
   "id": "eb5ace76-27fa-42a1-9a57-44b7de0598e1",
   "metadata": {},
   "outputs": [
    {
     "name": "stdout",
     "output_type": "stream",
     "text": [
      "2\n",
      "3\n"
     ]
    }
   ],
   "source": [
    "#my_tuple.count('p') - counts total number of 'p' in my_tuple\n",
    "#my_tuple.index('l') - returns the first occurrence of 'l' in my_tuple\n",
    "my_tuple = ('a', 'p', 'p', 'l', 'e',)\n",
    "\n",
    "print(my_tuple.count('p'))  \n",
    "print(my_tuple.index('l'))  \n",
    "\n",
    "# may be because tuple are immutable"
   ]
  },
  {
   "cell_type": "markdown",
   "id": "7d18155b-6806-4302-97bf-47b576da09f9",
   "metadata": {},
   "source": [
    "Which collection datatypes in python do not allow duplicate items? Write a code using a set to remove duplicates from the given list. List=[1,1,1,2,1,3,1,4,2,1,2,2,2,3,2,4,3,1,3,2,3,3,3,4,4,1,4,2,4,3,4,4]\n",
    "\n"
   ]
  },
  {
   "cell_type": "code",
   "execution_count": 4,
   "id": "a2577bc8-3fa8-424f-9feb-8782c5b15e28",
   "metadata": {},
   "outputs": [
    {
     "name": "stdout",
     "output_type": "stream",
     "text": [
      "{1, 2, 3, 4}\n"
     ]
    }
   ],
   "source": [
    "# set do not allow duplicate items.\n",
    "l1= [1,1,1,2,1,3,1,4,2,1,2,2,2,3,2,4,3,1,3,2,3,3,3,4,4,1,4,2,4,3,4,4]\n",
    "s1=set(l1)\n",
    "print(s1)"
   ]
  },
  {
   "cell_type": "markdown",
   "id": "a54a01ff-0838-4647-9291-3a20672100b8",
   "metadata": {},
   "source": [
    " Explain the difference between the union() and update() methods for a set. Give an example of each method."
   ]
  },
  {
   "cell_type": "code",
   "execution_count": 6,
   "id": "03acfca7-5ed8-4c36-b3b2-5b784aad2ee5",
   "metadata": {},
   "outputs": [
    {
     "data": {
      "text/plain": [
       "'Both set.update() and set.union() perform the union operation. \\nHowever, set.update() adds all missing elements to the set on which it is called whereas \\nset.union() creates a new set. '"
      ]
     },
     "execution_count": 6,
     "metadata": {},
     "output_type": "execute_result"
    }
   ],
   "source": [
    "\"\"\"Both set.update() and set.union() perform the union operation. \n",
    "However, set.update() adds all missing elements to the set on which it is called whereas \n",
    "set.union() creates a new set. \"\"\""
   ]
  },
  {
   "cell_type": "code",
   "execution_count": 7,
   "id": "f4c1a1f2-41a8-4a29-81b6-fbc9009e9a90",
   "metadata": {},
   "outputs": [
    {
     "data": {
      "text/plain": [
       "{1, 2, 3, 4, 5}"
      ]
     },
     "execution_count": 7,
     "metadata": {},
     "output_type": "execute_result"
    }
   ],
   "source": [
    "s = {1, 2, 3}\n",
    "s.update({4, 5})\n",
    "s\n",
    "{1, 2, 3, 4, 5}"
   ]
  },
  {
   "cell_type": "code",
   "execution_count": 8,
   "id": "ca17b139-a0d1-48f7-8f79-a951799f670a",
   "metadata": {},
   "outputs": [
    {
     "data": {
      "text/plain": [
       "{1, 2, 3, 4, 5}"
      ]
     },
     "execution_count": 8,
     "metadata": {},
     "output_type": "execute_result"
    }
   ],
   "source": [
    "s = {1, 2, 3}\n",
    "s.union({4, 5})\n",
    "{1, 2, 3, 4, 5}"
   ]
  },
  {
   "cell_type": "markdown",
   "id": "d7233b50-4969-4283-ada3-d6a7cc026c44",
   "metadata": {},
   "source": [
    "What is a dictionary? Give an example. Also, state whether a dictionary is ordered or unordered."
   ]
  },
  {
   "cell_type": "code",
   "execution_count": 9,
   "id": "5f39f8f4-0352-4ff1-8ab7-c4f137dfd498",
   "metadata": {},
   "outputs": [],
   "source": [
    "#A dictionary is a collection which is ordered*, changeable and do not allow duplicates. \n",
    "#As of Python version 3.7, dictionaries are ordered.\n",
    "# numNames={1:\"One\", 2: \"Two\", 3:\"Three\"} # int key, string value"
   ]
  },
  {
   "cell_type": "markdown",
   "id": "18941c92-8d1d-40f0-b412-4e7d1928cbb9",
   "metadata": {},
   "source": [
    "Can we create a nested dictionary? If so, please give an example by creating a simple one-level nested dictionary."
   ]
  },
  {
   "cell_type": "code",
   "execution_count": 10,
   "id": "02c40326-dc81-4928-892e-b90d089aaab8",
   "metadata": {},
   "outputs": [],
   "source": [
    "# yes, we can create a nested dictionary\n",
    "nested_dict = { 'dict1': {'key_A': 'value_A'},\n",
    "                'dict2': {'key_B': 'value_B'}}"
   ]
  },
  {
   "cell_type": "markdown",
   "id": "d1fcd59a-300e-4354-8048-8f144e1e8548",
   "metadata": {},
   "source": [
    "Using setdefault() method, create key named topics in the given dictionary and also add the value of the key as this list ['Python', 'Machine Learning’, 'Deep Learning']\n",
    "\n",
    "question is also not clear a little bit"
   ]
  },
  {
   "cell_type": "code",
   "execution_count": 6,
   "id": "d14e8129-d8d7-49e7-84f0-8c92c2f4d76b",
   "metadata": {},
   "outputs": [
    {
     "data": {
      "text/plain": [
       "{'language': 'Python',\n",
       " 'course': 'Data Science Masters',\n",
       " 'course1': 'machine learning',\n",
       " 'course2': 'deeplearning'}"
      ]
     },
     "execution_count": 6,
     "metadata": {},
     "output_type": "execute_result"
    }
   ],
   "source": [
    "dict1 = {'language' : 'Python', 'course': 'Data Science Masters'}\n",
    "dict1.setdefault('course1', 'machine learning')\n",
    "dict1.setdefault('course2', 'deeplearning')\n",
    "dict1"
   ]
  },
  {
   "cell_type": "markdown",
   "id": "acfa15da-6bcf-458c-bfac-b21932c4b586",
   "metadata": {},
   "source": [
    "What are the three view objects in dictionaries? Use the three in-built methods in python to display these three view objects for the given dictionary.\n",
    "\n",
    "\n",
    "dict1 = {'Sport': 'Cricket' , 'Teams': ['India', 'Australia', 'England', 'South Africa', 'Sri Lanka', 'New Zealand']}"
   ]
  },
  {
   "cell_type": "code",
   "execution_count": 7,
   "id": "88efb5d2-7653-4c12-a032-2a92339d5240",
   "metadata": {},
   "outputs": [
    {
     "name": "stdout",
     "output_type": "stream",
     "text": [
      "dict_keys(['Sport', 'Teams']) dict_values(['Cricket', ['India', 'Australia', 'England', 'South Africa', 'Sri Lanka', 'New Zealand']]) dict_items([('Sport', 'Cricket'), ('Teams', ['India', 'Australia', 'England', 'South Africa', 'Sri Lanka', 'New Zealand'])])\n"
     ]
    }
   ],
   "source": [
    "# The main view objects of dictionary in python are keys, values and items\n",
    "dict1 = {'Sport': 'Cricket' , 'Teams': ['India', 'Australia', 'England', 'South Africa', 'Sri Lanka', 'New Zealand']}\n",
    "a=dict1.keys()\n",
    "b=dict1.values()\n",
    "c=dict1.items()\n",
    "print(a,b,c)"
   ]
  },
  {
   "cell_type": "code",
   "execution_count": null,
   "id": "c6fd7e9f-adef-4ffb-83d9-a7c2dba07391",
   "metadata": {},
   "outputs": [],
   "source": []
  }
 ],
 "metadata": {
  "kernelspec": {
   "display_name": "Python 3 (ipykernel)",
   "language": "python",
   "name": "python3"
  },
  "language_info": {
   "codemirror_mode": {
    "name": "ipython",
    "version": 3
   },
   "file_extension": ".py",
   "mimetype": "text/x-python",
   "name": "python",
   "nbconvert_exporter": "python",
   "pygments_lexer": "ipython3",
   "version": "3.10.8"
  }
 },
 "nbformat": 4,
 "nbformat_minor": 5
}
