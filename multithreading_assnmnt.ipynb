{
 "cells": [
  {
   "cell_type": "markdown",
   "id": "a3638b45-888f-4520-9db0-1f1fa572e66c",
   "metadata": {},
   "source": [
    "what is multithreading in python? why is it used? Name the module used to handle threads in python"
   ]
  },
  {
   "cell_type": "markdown",
   "id": "02856ab8-cdaf-42e8-a378-8b33ebd9bf38",
   "metadata": {},
   "source": [
    "multithreading is the ability of the program to execute multiple threads concurrently\n",
    "within a single process . the main objective of multithreading is the better \n",
    "utilization of the resources . it can respond to some programming input without hindering the main process\n",
    "the module which is used is threading"
   ]
  },
  {
   "cell_type": "markdown",
   "id": "2ee4463f-edb6-40c3-b0fc-f4b4d7ae883d",
   "metadata": {},
   "source": [
    "why threading module used? write the use of the following functions\n",
    "1. activeCount\n",
    "2. currentThread\n",
    "3. enumerate"
   ]
  },
  {
   "cell_type": "markdown",
   "id": "1d86082b-fa3d-4e5b-a9a5-cc0c86d0c092",
   "metadata": {},
   "source": [
    "the module provided hogh level interface to create and manage threads\n",
    "activecount :- this function return the number of active threads\n",
    "currentthread:- this function return the thread object corresponding to current thread of execution\n",
    "enumerate:- this function return the list of all active threads"
   ]
  },
  {
   "cell_type": "markdown",
   "id": "299ada64-cc38-4b31-a51d-89a71fbc285d",
   "metadata": {},
   "source": [
    "explain the foolowing function\n",
    "1. run()\n",
    "2. start()\n",
    "3. join()\n",
    "4. isAlive()"
   ]
  },
  {
   "cell_type": "markdown",
   "id": "c1232d39-1cd6-4ed7-b378-c42b9402255d",
   "metadata": {},
   "source": [
    "run:- this method is the entry point of thread activity it is called when start method is invoked\n",
    "start:- this method is used to start the execution of thread\n",
    "join:- this method is used to wait for a thread to complete its execution\n",
    "isalive:- this method is used to check if a thread is currently running or not"
   ]
  },
  {
   "cell_type": "markdown",
   "id": "f97a5bb8-88a0-43db-9e63-d8465813cf57",
   "metadata": {},
   "source": [
    "write a python program to create two threads. Thread one must print the list of squares and thread\n",
    "two must print the list of cubes"
   ]
  },
  {
   "cell_type": "code",
   "execution_count": 1,
   "id": "1fa80dfe-61aa-425f-ae32-2e33d5b01682",
   "metadata": {},
   "outputs": [],
   "source": [
    "import threading"
   ]
  },
  {
   "cell_type": "code",
   "execution_count": 2,
   "id": "4b035125-e91a-4aff-ab8d-1bcc832745b5",
   "metadata": {},
   "outputs": [],
   "source": [
    "def sqr1(x):\n",
    "    print(\"the square of input is %d\" %(x**2))"
   ]
  },
  {
   "cell_type": "code",
   "execution_count": 8,
   "id": "834609a6-0f21-47ed-86a9-a5577106b910",
   "metadata": {},
   "outputs": [],
   "source": [
    "def cbrt1(y):\n",
    "    print(\"the cube of input is %d\" %(y**3))\n",
    "    "
   ]
  },
  {
   "cell_type": "code",
   "execution_count": 4,
   "id": "070e7035-6adf-42d1-9c12-a315e72b1e90",
   "metadata": {},
   "outputs": [],
   "source": [
    "thred1=[threading.Thread(target=sqr1, args=(i,)) for i in [3,6,2]]"
   ]
  },
  {
   "cell_type": "code",
   "execution_count": 5,
   "id": "005787f9-36da-4eeb-bd4f-1c77b5303c91",
   "metadata": {},
   "outputs": [
    {
     "name": "stdout",
     "output_type": "stream",
     "text": [
      "the square of input is 9\n",
      "the square of input is 36\n",
      "the square of input is 4\n"
     ]
    }
   ],
   "source": [
    "for t in thred1:\n",
    "    t.start()"
   ]
  },
  {
   "cell_type": "code",
   "execution_count": 9,
   "id": "c36de3cd-914a-4b75-b12e-8cb35c45b787",
   "metadata": {},
   "outputs": [],
   "source": [
    "thred2=[threading.Thread(target=cbrt1, args=(i,)) for i in [4,2,3]]"
   ]
  },
  {
   "cell_type": "code",
   "execution_count": 10,
   "id": "04312286-e530-43d6-ae6a-0fbba77d2c2b",
   "metadata": {},
   "outputs": [
    {
     "name": "stdout",
     "output_type": "stream",
     "text": [
      "the cube of input is 64\n",
      "the cube of input is 8\n",
      "the cube of input is 27\n"
     ]
    }
   ],
   "source": [
    "for k in thred2:\n",
    "    k.start()"
   ]
  },
  {
   "cell_type": "markdown",
   "id": "bd4434f9-2e19-4854-b2ed-f4dbaf9b7e70",
   "metadata": {},
   "source": [
    "State advantages and disadvantages of multithreading\n"
   ]
  },
  {
   "cell_type": "markdown",
   "id": "0cb5af0b-331a-4544-beb0-85bb1414621d",
   "metadata": {},
   "source": [
    "advantage:- \n",
    "1. better utilization of resources\n",
    "2. improved responsiveness and better user experience\n",
    "\n",
    "disadvantage\n",
    "1. increase complexity\n",
    "2. limited cpu parallelism in python due to global interpreter lock(Gil)"
   ]
  },
  {
   "cell_type": "markdown",
   "id": "cbcf0cff-cc3e-4578-a4a6-34897eacdc15",
   "metadata": {},
   "source": [
    "Explain deadlocks and race conditions."
   ]
  },
  {
   "cell_type": "markdown",
   "id": "1017550a-5b21-4b2a-898a-b11723c7e702",
   "metadata": {},
   "source": [
    "1. deadlock occurs when two or more threads are stuck and waiting for each other to release resources\n",
    "2. race condition arises when behaviour of program depends on timing of multiple threads\n",
    "3. To avoid deadlocks, resource allocation and synchronization must be managed carefully. To prevent race conditions, proper synchronization mechanisms should be used to ensure exclusive access to shared resources."
   ]
  },
  {
   "cell_type": "code",
   "execution_count": null,
   "id": "9bd7421d-2a13-4de8-85c6-a198e35df723",
   "metadata": {},
   "outputs": [],
   "source": []
  }
 ],
 "metadata": {
  "kernelspec": {
   "display_name": "Python 3 (ipykernel)",
   "language": "python",
   "name": "python3"
  },
  "language_info": {
   "codemirror_mode": {
    "name": "ipython",
    "version": 3
   },
   "file_extension": ".py",
   "mimetype": "text/x-python",
   "name": "python",
   "nbconvert_exporter": "python",
   "pygments_lexer": "ipython3",
   "version": "3.10.8"
  }
 },
 "nbformat": 4,
 "nbformat_minor": 5
}
