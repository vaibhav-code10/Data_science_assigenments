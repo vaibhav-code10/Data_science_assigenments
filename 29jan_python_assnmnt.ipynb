{
 "cells": [
  {
   "cell_type": "code",
   "execution_count": 1,
   "id": "5bc8facf-02a9-48c7-806e-aa63d16e4dad",
   "metadata": {},
   "outputs": [],
   "source": [
    "#Who developed Python ProgrammingLanguage?\n"
   ]
  },
  {
   "cell_type": "markdown",
   "id": "7f7bb761-1d2a-46a2-ab37-c977d16ce431",
   "metadata": {},
   "source": [
    "Guido van Rossum"
   ]
  },
  {
   "cell_type": "code",
   "execution_count": 2,
   "id": "9134ba39-97d2-43bc-b63e-d6347870b007",
   "metadata": {},
   "outputs": [],
   "source": [
    "#2. Which type of Programming does Python support?"
   ]
  },
  {
   "cell_type": "markdown",
   "id": "7330c5d6-2b69-4c4a-a84f-b5c682dbaa55",
   "metadata": {},
   "source": [
    "Python is a multi-paradigm programming language. Object-oriented programming and structured programming are fully supported, and many of their features support functional programming and aspect-oriented programming"
   ]
  },
  {
   "cell_type": "code",
   "execution_count": 3,
   "id": "eca3a010-ddfc-4c23-ad31-6650fbe1503c",
   "metadata": {},
   "outputs": [],
   "source": [
    "#Is Python case sensitive when dealing with identifiers?"
   ]
  },
  {
   "cell_type": "markdown",
   "id": "92f88e6a-e316-4965-817b-738d691605d8",
   "metadata": {},
   "source": [
    "Yes, Python is a case−sensitive programming language."
   ]
  },
  {
   "cell_type": "code",
   "execution_count": 1,
   "id": "e40237ca-7f38-4c14-8860-a51fa6fa8655",
   "metadata": {},
   "outputs": [],
   "source": [
    "#What is the correct extension of the Python file?"
   ]
  },
  {
   "cell_type": "markdown",
   "id": "b47fb563-42c9-4e3e-83d3-263d812823dd",
   "metadata": {},
   "source": [
    "The file extensions for Python are-\n",
    "\n",
    ".pyz\n",
    "\n",
    ".pyd\n",
    "\n",
    ".pyw\n",
    "\n",
    ".pyo\n",
    "\n",
    ".pyc\n",
    "\n",
    ".pyi\n",
    "\n",
    ".py"
   ]
  },
  {
   "cell_type": "code",
   "execution_count": 2,
   "id": "a6bc061c-6300-4da5-9b60-f0ac2abfe154",
   "metadata": {},
   "outputs": [],
   "source": [
    "#5. Is Python code compiled or interpreted?"
   ]
  },
  {
   "cell_type": "markdown",
   "id": "da91630e-2172-4aba-bbbe-0a5e297dfb1b",
   "metadata": {},
   "source": [
    "Python is an interpreted language"
   ]
  },
  {
   "cell_type": "code",
   "execution_count": 3,
   "id": "7a280630-c9aa-47b6-a280-cd9f199dc13b",
   "metadata": {},
   "outputs": [],
   "source": [
    "#6. Name a few blocks of code used to define in Python language?"
   ]
  },
  {
   "cell_type": "markdown",
   "id": "d8fb894a-66ee-4792-8ba1-9ed3e5e3afbc",
   "metadata": {},
   "source": [
    "he following are blocks: a module, a function body, and a class definition. Each command typed interactively is a block. A script file (a file given as standard input to the interpreter or specified as a command line argument to the interpreter) is a code block."
   ]
  },
  {
   "cell_type": "code",
   "execution_count": 7,
   "id": "260b0e14-4022-4b16-9284-3355d587b97f",
   "metadata": {},
   "outputs": [],
   "source": [
    "#7. State a character used to give single-line comments in Python?"
   ]
  },
  {
   "cell_type": "markdown",
   "id": "706c0acf-9739-4045-bc03-a0d22b43aad2",
   "metadata": {},
   "source": [
    "hastag #"
   ]
  },
  {
   "cell_type": "code",
   "execution_count": 4,
   "id": "3841cbc0-54be-4d1a-81f9-10ee427dc883",
   "metadata": {},
   "outputs": [],
   "source": [
    "#8. Mention functions which can help us to find the version of python that we are currently working on?"
   ]
  },
  {
   "cell_type": "markdown",
   "id": "aa568938-2213-42f4-8c48-da068f2e116c",
   "metadata": {},
   "source": [
    "The function sys. version"
   ]
  },
  {
   "cell_type": "code",
   "execution_count": 9,
   "id": "44ce44e9-ff8a-440f-81d3-70474ce47470",
   "metadata": {},
   "outputs": [],
   "source": [
    "#9. Python supports the creation of anonymous functions at runtime, using a construct called"
   ]
  },
  {
   "cell_type": "markdown",
   "id": "248f8d2d-edb7-419d-acb7-325725237a6d",
   "metadata": {},
   "source": [
    "lambda"
   ]
  },
  {
   "cell_type": "code",
   "execution_count": 10,
   "id": "132a9484-a577-45f2-adbe-63a30d051efd",
   "metadata": {},
   "outputs": [],
   "source": [
    "#10. What does pip stand for python?"
   ]
  },
  {
   "cell_type": "markdown",
   "id": "8b2dbf08-317e-42bf-ae25-77f949b1a343",
   "metadata": {},
   "source": [
    "pip Install Packages"
   ]
  },
  {
   "cell_type": "code",
   "execution_count": 11,
   "id": "e365e802-19da-495e-bd43-ad93c33012c0",
   "metadata": {},
   "outputs": [],
   "source": [
    "#11. Mention a few built-in functions in python?"
   ]
  },
  {
   "cell_type": "markdown",
   "id": "49277afd-3c2f-479f-ba0a-102095b4957e",
   "metadata": {},
   "source": [
    "round( ) function\n",
    "divmod( ) function\n",
    "id( ) function\n",
    "ord( ) function\n",
    "len( ) function"
   ]
  },
  {
   "cell_type": "code",
   "execution_count": 12,
   "id": "eea442b6-4c64-4854-943a-c4342ab1efd7",
   "metadata": {},
   "outputs": [],
   "source": [
    "#12. What is the maximum possible length of an identifier in Python?"
   ]
  },
  {
   "cell_type": "markdown",
   "id": "6ff7cfe8-9c8e-4436-a0f6-db3ef5ef631a",
   "metadata": {},
   "source": [
    "An identifier can have a maximum length of 79 characters "
   ]
  },
  {
   "cell_type": "code",
   "execution_count": 13,
   "id": "8073ede3-d265-45de-950b-02ac3ffa1023",
   "metadata": {},
   "outputs": [],
   "source": [
    "#13. What are the benefits of using Python?"
   ]
  },
  {
   "cell_type": "markdown",
   "id": "e9f79816-506d-4c87-a405-7cc5d9e83d62",
   "metadata": {},
   "source": [
    "1. Easy to Read, Learn and Write\n",
    "2. Dynamically Typed\n",
    "3. Vast Libraries Support\n",
    "4. Free and Open-Source"
   ]
  },
  {
   "cell_type": "code",
   "execution_count": 14,
   "id": "8aba8c5d-4508-47b8-8c62-6bec72bccd58",
   "metadata": {},
   "outputs": [],
   "source": [
    "#14. How is memory managed in Python?"
   ]
  },
  {
   "cell_type": "markdown",
   "id": "6ce513d9-4c20-449f-b724-2c496c6e4d37",
   "metadata": {},
   "source": [
    "Memory management in Python involves the management of a private heap. A private heap is a portion of memory that is exclusive to the Python process. All Python objects and data structures are stored in the private heap."
   ]
  },
  {
   "cell_type": "code",
   "execution_count": 5,
   "id": "18aa6ab1-6e3d-4de8-8f0b-9b505d496e07",
   "metadata": {},
   "outputs": [],
   "source": [
    "#15. How to install Python on Windows and set path variables?"
   ]
  },
  {
   "cell_type": "markdown",
   "id": "a74a2d01-eb8e-4e9a-a6a1-9d6f794ea04e",
   "metadata": {},
   "source": [
    "download python and then Right click on My Computer and click on properties.\n",
    "\n",
    " Click on Advanced System settings Click on Environment Variable tab.  Click on new tab of user variables. Write path in variable name\n",
    "Copy the path of Python folder Paste path of Python in variable value Click on Ok button twice\n",
    "\n"
   ]
  },
  {
   "cell_type": "code",
   "execution_count": 16,
   "id": "1eabd273-91b1-4fb4-a406-81687650b79d",
   "metadata": {},
   "outputs": [],
   "source": [
    "#16. Is indentation required in python?"
   ]
  },
  {
   "cell_type": "markdown",
   "id": "41cfedb7-c475-452b-a70e-41315b4bd0fd",
   "metadata": {},
   "source": [
    "yes It specifies a block of code."
   ]
  },
  {
   "cell_type": "code",
   "execution_count": null,
   "id": "fc4c421c-e29d-48c5-9448-c89b72654b59",
   "metadata": {},
   "outputs": [],
   "source": []
  }
 ],
 "metadata": {
  "kernelspec": {
   "display_name": "Python 3 (ipykernel)",
   "language": "python",
   "name": "python3"
  },
  "language_info": {
   "codemirror_mode": {
    "name": "ipython",
    "version": 3
   },
   "file_extension": ".py",
   "mimetype": "text/x-python",
   "name": "python",
   "nbconvert_exporter": "python",
   "pygments_lexer": "ipython3",
   "version": "3.10.8"
  }
 },
 "nbformat": 4,
 "nbformat_minor": 5
}
