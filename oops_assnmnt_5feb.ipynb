{
 "cells": [
  {
   "cell_type": "markdown",
   "id": "c5c3b96f-b70f-488f-b575-25a860b78ba4",
   "metadata": {},
   "source": [
    "### Q1. Explain Class and Object with respect to Object-Oriented Programming. Give a suitable example."
   ]
  },
  {
   "cell_type": "code",
   "execution_count": 1,
   "id": "cec6e9e2-faf4-4cc8-9054-e73bfcb1246f",
   "metadata": {},
   "outputs": [],
   "source": [
    "# Object − Objects have states and behaviors. Example: A dog has states - color, name, breed as well as\n",
    "#behaviors – wagging the tail, barking, eating. An object is an instance of a class. \n",
    "#Class − A class can be defined as a template/blueprint that describes the behavior/state that the object \n",
    "# of its type support."
   ]
  },
  {
   "cell_type": "markdown",
   "id": "ddb401ce-f4ae-4c64-982a-d168585e5b62",
   "metadata": {},
   "source": [
    "### Name the four pillars of OOPs."
   ]
  },
  {
   "cell_type": "code",
   "execution_count": 3,
   "id": "865a62ac-3cae-4f5e-b6ea-d627f9a037b8",
   "metadata": {},
   "outputs": [],
   "source": [
    "#1. polymorphism\n",
    "#2. encapsulatio\n",
    "#3. inheritance\n",
    "#4. abstraction"
   ]
  },
  {
   "cell_type": "markdown",
   "id": "8f841b2d-9b1b-4c4a-a716-d323c622edd1",
   "metadata": {},
   "source": [
    "### Q3. Explain why the __init__() function is used. Give a suitable example."
   ]
  },
  {
   "cell_type": "code",
   "execution_count": 4,
   "id": "84d2abe8-77a3-4c2b-8a2b-f560b68f66d8",
   "metadata": {},
   "outputs": [],
   "source": [
    " #__init__ is a special python method that runs whenever a new object is created. These types of functions\n",
    "#are used to initialize the attributes of that class, E.g., if the class is Person, then the attributes \n",
    "# will be name, age, etc."
   ]
  },
  {
   "cell_type": "markdown",
   "id": "c9aa8dcf-621f-47d4-9c19-3174cbdee732",
   "metadata": {},
   "source": [
    "### Q4. Why self is used in OOPs?"
   ]
  },
  {
   "cell_type": "code",
   "execution_count": 5,
   "id": "38358c04-447a-4c24-af31-7f26ca3c071a",
   "metadata": {},
   "outputs": [],
   "source": [
    "#The use of self makes it easier to distinguish between instance attributes (and methods) from local\n",
    "#variables. In the first example, self. x is an instance attribute whereas x is a local variable. \n",
    "#They are not the same and they lie in different namespaces."
   ]
  },
  {
   "cell_type": "markdown",
   "id": "3b163e7b-18fb-411b-bd21-19005f43fb4c",
   "metadata": {},
   "source": [
    "### What is inheritance? Give an example for each type of inheritance."
   ]
  },
  {
   "cell_type": "markdown",
   "id": "4875f00d-ed1b-4926-9366-e24cc2a4356a",
   "metadata": {},
   "source": [
    "Inheritance is defined as the mechanism of inheriting the properties of the base class to the child class. \n",
    "Single inheritance enables a derived class to inherit properties from a single parent class, thus enabling code reusability and the addition of new features to existing code."
   ]
  },
  {
   "cell_type": "code",
   "execution_count": 6,
   "id": "52c62933-691f-4869-88ee-38b1780c6b06",
   "metadata": {},
   "outputs": [
    {
     "name": "stdout",
     "output_type": "stream",
     "text": [
      "This function is in parent class.\n",
      "This function is in child class.\n"
     ]
    }
   ],
   "source": [
    "class Parent:\n",
    "    def func1(self):\n",
    "        print(\"This function is in parent class.\")\n",
    "class Child(Parent):\n",
    "    def func2(self):\n",
    "        print(\"This function is in child class.\")\n",
    "object = Child()\n",
    "object.func1()\n",
    "object.func2()"
   ]
  },
  {
   "cell_type": "markdown",
   "id": "da66f627-dad2-4fef-9119-e9166f552ce1",
   "metadata": {},
   "source": [
    "Multiple Inheritance: \n",
    "\n",
    "When a class can be derived from more than one base class this type of inheritance is called multiple inheritances. In multiple inheritances, all the features of the base classes are inherited into the derived class. "
   ]
  },
  {
   "cell_type": "code",
   "execution_count": 7,
   "id": "9de8f48a-6a48-447e-91b0-e66062ad0df4",
   "metadata": {},
   "outputs": [
    {
     "name": "stdout",
     "output_type": "stream",
     "text": [
      "Father : RAM\n",
      "Mother : SITA\n"
     ]
    }
   ],
   "source": [
    "class Mother:\n",
    "    mothername = \"\"\n",
    "    def mother(self):\n",
    "        print(self.mothername)\n",
    "class Father:\n",
    "    fathername = \"\"\n",
    "    def father(self):\n",
    "        print(self.fathername)\n",
    "class Son(Mother, Father):\n",
    "    def parents(self):\n",
    "        print(\"Father :\", self.fathername)\n",
    "        print(\"Mother :\", self.mothername)\n",
    "s1 = Son()\n",
    "s1.fathername = \"RAM\"\n",
    "s1.mothername = \"SITA\"\n",
    "s1.parents()"
   ]
  },
  {
   "cell_type": "markdown",
   "id": "db5b2904-5db4-4e56-881b-0dc7675b27f6",
   "metadata": {},
   "source": [
    "Multilevel Inheritance :\n",
    "\n",
    "In multilevel inheritance, features of the base class and the derived class are further inherited into the new derived class. This is similar to a relationship representing a child and a grandfather. \n",
    "\n"
   ]
  },
  {
   "cell_type": "code",
   "execution_count": 8,
   "id": "b55e09cc-65cf-4abb-9e9c-625189c78a3c",
   "metadata": {},
   "outputs": [
    {
     "name": "stdout",
     "output_type": "stream",
     "text": [
      "Lal mani\n",
      "Grandfather name : Lal mani\n",
      "Father name : Rampal\n",
      "Son name : Prince\n"
     ]
    }
   ],
   "source": [
    "class Grandfather:\n",
    " \n",
    "    def __init__(self, grandfathername):\n",
    "        self.grandfathername = grandfathername\n",
    "class Father(Grandfather):\n",
    "    def __init__(self, fathername, grandfathername):\n",
    "        self.fathername = fathername\n",
    " \n",
    "        # invoking constructor of Grandfather class\n",
    "        Grandfather.__init__(self, grandfathername)\n",
    "class Son(Father):\n",
    "    def __init__(self, sonname, fathername, grandfathername):\n",
    "        self.sonname = sonname\n",
    "        Father.__init__(self, fathername, grandfathername)\n",
    "    def print_name(self):\n",
    "        print('Grandfather name :', self.grandfathername)\n",
    "        print(\"Father name :\", self.fathername)\n",
    "        print(\"Son name :\", self.sonname)\n",
    "s1 = Son('Prince', 'Rampal', 'Lal mani')\n",
    "print(s1.grandfathername)\n",
    "s1.print_name()"
   ]
  },
  {
   "cell_type": "markdown",
   "id": "b7532a18-7b7e-471d-89cb-96810f12f73e",
   "metadata": {},
   "source": [
    "Hierarchical Inheritance: \n",
    "\n",
    "When more than one derived class are created from a single base this type of inheritance is called hierarchical inheritance. In this program, we have a parent (base) class and two child (derived) classes."
   ]
  },
  {
   "cell_type": "code",
   "execution_count": 9,
   "id": "08f54967-1d28-46b5-9b5f-501d7de7c933",
   "metadata": {},
   "outputs": [
    {
     "name": "stdout",
     "output_type": "stream",
     "text": [
      "This function is in parent class.\n",
      "This function is in child 1.\n",
      "This function is in parent class.\n",
      "This function is in child 2.\n"
     ]
    }
   ],
   "source": [
    "class Parent:\n",
    "    def func1(self):\n",
    "        print(\"This function is in parent class.\")\n",
    "class Child1(Parent):\n",
    "    def func2(self):\n",
    "        print(\"This function is in child 1.\")\n",
    "class Child2(Parent):\n",
    "    def func3(self):\n",
    "        print(\"This function is in child 2.\")\n",
    "object1 = Child1()\n",
    "object2 = Child2()\n",
    "object1.func1()\n",
    "object1.func2()\n",
    "object2.func1()\n",
    "object2.func3()"
   ]
  },
  {
   "cell_type": "code",
   "execution_count": null,
   "id": "f8bfc968-6e6f-47d6-b806-7a453ff120f8",
   "metadata": {},
   "outputs": [],
   "source": []
  }
 ],
 "metadata": {
  "kernelspec": {
   "display_name": "Python 3 (ipykernel)",
   "language": "python",
   "name": "python3"
  },
  "language_info": {
   "codemirror_mode": {
    "name": "ipython",
    "version": 3
   },
   "file_extension": ".py",
   "mimetype": "text/x-python",
   "name": "python",
   "nbconvert_exporter": "python",
   "pygments_lexer": "ipython3",
   "version": "3.10.8"
  }
 },
 "nbformat": 4,
 "nbformat_minor": 5
}
