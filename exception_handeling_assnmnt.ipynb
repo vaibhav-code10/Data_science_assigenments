{
 "cells": [
  {
   "cell_type": "markdown",
   "id": "13b5d58d-aa5d-4ebd-b588-f33eaf089f47",
   "metadata": {},
   "source": [
    "Q1. What is an Exception in python? Write the difference between Exceptions and \n",
    "syntax errors"
   ]
  },
  {
   "cell_type": "markdown",
   "id": "f44ba5c6-5bc8-41a7-94e7-b5658495a0e6",
   "metadata": {},
   "source": [
    "Syntax errors are detected during parsing, while exceptions occur during program execution.\n",
    "Syntax errors require fixing the code, while exceptions can be handled using try-except blocks.\n",
    "Syntax errors prevent program execution, while exceptions allow for graceful error handling and program continuation."
   ]
  },
  {
   "cell_type": "markdown",
   "id": "7a1d06cf-c901-4b96-96fa-1cd116c95ece",
   "metadata": {},
   "source": [
    "what happens when exception is not handeled? explain with example"
   ]
  },
  {
   "cell_type": "markdown",
   "id": "aedb8cab-1036-4d48-937d-9f25f9d9b8b0",
   "metadata": {},
   "source": [
    "When an exception is not handled in Python, it results in the program terminating abruptly and an error message being displayed. This behavior is known as an unhandled exception or an uncaught exception."
   ]
  },
  {
   "cell_type": "code",
   "execution_count": 2,
   "id": "72b31279-13b6-4fb3-a9e2-43b888f8a129",
   "metadata": {},
   "outputs": [],
   "source": [
    "def divide_numb(a,b):\n",
    "    result=a/b\n",
    "    return result"
   ]
  },
  {
   "cell_type": "code",
   "execution_count": 3,
   "id": "117e9295-e5eb-4c46-bf3a-21a489edab27",
   "metadata": {},
   "outputs": [
    {
     "name": "stdout",
     "output_type": "stream",
     "text": [
      "error number can not be divided with zero division by zero\n"
     ]
    }
   ],
   "source": [
    "# handeling the error\n",
    "try:\n",
    "    rslt=divide_numb(10,0)\n",
    "    print(\"resultant\",rslt)\n",
    "except Exception as e:\n",
    "    print(\"error number can not be divided with zero\",e)"
   ]
  },
  {
   "cell_type": "code",
   "execution_count": 4,
   "id": "51acd685-313b-49c9-824d-d22644491e40",
   "metadata": {},
   "outputs": [
    {
     "ename": "ZeroDivisionError",
     "evalue": "division by zero",
     "output_type": "error",
     "traceback": [
      "\u001b[0;31m---------------------------------------------------------------------------\u001b[0m",
      "\u001b[0;31mZeroDivisionError\u001b[0m                         Traceback (most recent call last)",
      "Cell \u001b[0;32mIn[4], line 2\u001b[0m\n\u001b[1;32m      1\u001b[0m \u001b[38;5;66;03m# not handelling error\u001b[39;00m\n\u001b[0;32m----> 2\u001b[0m rslt1\u001b[38;5;241m=\u001b[39m\u001b[43mdivide_numb\u001b[49m\u001b[43m(\u001b[49m\u001b[38;5;241;43m10\u001b[39;49m\u001b[43m,\u001b[49m\u001b[38;5;241;43m0\u001b[39;49m\u001b[43m)\u001b[49m\n\u001b[1;32m      3\u001b[0m \u001b[38;5;28mprint\u001b[39m(\u001b[38;5;124m\"\u001b[39m\u001b[38;5;124mresultant\u001b[39m\u001b[38;5;124m\"\u001b[39m,rslt1)\n",
      "Cell \u001b[0;32mIn[2], line 2\u001b[0m, in \u001b[0;36mdivide_numb\u001b[0;34m(a, b)\u001b[0m\n\u001b[1;32m      1\u001b[0m \u001b[38;5;28;01mdef\u001b[39;00m \u001b[38;5;21mdivide_numb\u001b[39m(a,b):\n\u001b[0;32m----> 2\u001b[0m     result\u001b[38;5;241m=\u001b[39m\u001b[43ma\u001b[49m\u001b[38;5;241;43m/\u001b[39;49m\u001b[43mb\u001b[49m\n\u001b[1;32m      3\u001b[0m     \u001b[38;5;28;01mreturn\u001b[39;00m result\n",
      "\u001b[0;31mZeroDivisionError\u001b[0m: division by zero"
     ]
    }
   ],
   "source": [
    "# not handelling error\n",
    "rslt1=divide_numb(10,0)\n",
    "print(\"resultant\",rslt1)"
   ]
  },
  {
   "cell_type": "markdown",
   "id": "08ae5e43-df7f-448d-bea2-43ac737f0574",
   "metadata": {},
   "source": [
    "which python staement is used to catch and handle exception explain with example?"
   ]
  },
  {
   "cell_type": "markdown",
   "id": "7acdf186-73c2-40e8-9b8b-682220c40e35",
   "metadata": {},
   "source": [
    "In Python, the try-except statement is used to catch and handle exceptions."
   ]
  },
  {
   "cell_type": "code",
   "execution_count": 5,
   "id": "0bff7ce4-9369-4bc2-983b-446a13cf8d26",
   "metadata": {},
   "outputs": [
    {
     "name": "stdout",
     "output_type": "stream",
     "text": [
      "error number can not be divided with zero division by zero\n"
     ]
    }
   ],
   "source": [
    "def divide_numb(a,b):\n",
    "    result=a/b\n",
    "    return result\n",
    "# handeling the error\n",
    "try:\n",
    "    rslt=divide_numb(10,0)\n",
    "    print(\"resultant\",rslt)\n",
    "except Exception as e:\n",
    "    print(\"error number can not be divided with zero\",e)"
   ]
  },
  {
   "cell_type": "markdown",
   "id": "c2ce5fd6-ad60-49ea-b896-6d4548d7e6a7",
   "metadata": {},
   "source": [
    "Q4. Explain with an example:#\n",
    "\n",
    "1.try and else\n",
    "2.finlly\n",
    "3.raise"
   ]
  },
  {
   "cell_type": "code",
   "execution_count": 8,
   "id": "23c151f9-0996-450a-96ff-3821c6f94f94",
   "metadata": {},
   "outputs": [
    {
     "name": "stdout",
     "output_type": "stream",
     "text": [
      "resultant 5.0\n",
      "there is no error division has correct numbers\n"
     ]
    }
   ],
   "source": [
    "def divide_numb(a,b):\n",
    "    result=a/b\n",
    "    return result\n",
    "# handeling the error\n",
    "try:\n",
    "    rslt=divide_numb(10,2)\n",
    "    print(\"resultant\",rslt)\n",
    "except Exception as e:\n",
    "    print(\"error number can not be divided with zero\",e)\n",
    "else:\n",
    "    print(\"there is no error division has correct numbers\")\n",
    "# if there is no exception the else block will execute"
   ]
  },
  {
   "cell_type": "code",
   "execution_count": 11,
   "id": "82a5a460-fc33-4bd6-80ff-7be9ef7b00ea",
   "metadata": {},
   "outputs": [
    {
     "name": "stdout",
     "output_type": "stream",
     "text": [
      "error number can not be divided with zero division by zero\n",
      "even after error this line will execute\n"
     ]
    }
   ],
   "source": [
    "def divide_numb(a,b):\n",
    "    result=a/b\n",
    "    return result\n",
    "# handeling the error\n",
    "try:\n",
    "    rslt=divide_numb(10,0)\n",
    "    print(\"resultant\",rslt)\n",
    "except Exception as e:\n",
    "    print(\"error number can not be divided with zero\",e)\n",
    "finally:\n",
    "    print(\"even after error this line will execute\")\n",
    "# finally will execute whether error is there or not"
   ]
  },
  {
   "cell_type": "code",
   "execution_count": 12,
   "id": "2d4090a7-842a-4f77-bf77-741d11957034",
   "metadata": {},
   "outputs": [],
   "source": [
    "def calculate_percentage(marks_obtained, total_marks):\n",
    "    if total_marks <= 0:\n",
    "        raise ValueError(\"Total marks should be greater than zero.\")\n",
    "    \n",
    "    percentage = (marks_obtained / total_marks) * 100\n",
    "    return percentage"
   ]
  },
  {
   "cell_type": "code",
   "execution_count": 13,
   "id": "4758adc7-6906-4bbf-b4c5-0d3e45a9bea7",
   "metadata": {},
   "outputs": [
    {
     "name": "stdout",
     "output_type": "stream",
     "text": [
      "Percentage: 85.0\n"
     ]
    }
   ],
   "source": [
    "# Example 1: Valid calculation\n",
    "try:\n",
    "    result = calculate_percentage(85, 100)\n",
    "    print(\"Percentage:\", result)\n",
    "except ValueError as error:\n",
    "    print(\"Error:\", str(error))"
   ]
  },
  {
   "cell_type": "code",
   "execution_count": 14,
   "id": "468cdac2-db2e-44bd-8d82-af063f7b9181",
   "metadata": {},
   "outputs": [
    {
     "name": "stdout",
     "output_type": "stream",
     "text": [
      "Error: Total marks should be greater than zero.\n"
     ]
    }
   ],
   "source": [
    "# Example 2: Invalid total_marks\n",
    "try:\n",
    "    result = calculate_percentage(85, 0)\n",
    "    print(\"Percentage:\", result)\n",
    "except ValueError as error:\n",
    "    print(\"Error:\", str(error))"
   ]
  },
  {
   "cell_type": "markdown",
   "id": "e8890412-9a22-4e9a-a6ce-e5c82c1939a0",
   "metadata": {},
   "source": [
    "what are custom exception in python? why we need custom exception ? explain with example."
   ]
  },
  {
   "cell_type": "markdown",
   "id": "5755a6ed-a756-4434-aab8-c85b473a8df0",
   "metadata": {},
   "source": [
    "In Python, custom exceptions are user-defined exceptions that are created by subclassing existing exception classes or the base Exception class. By creating custom exceptions, you can define your own exceptional conditions and raise them in your code when specific situations occur."
   ]
  },
  {
   "cell_type": "markdown",
   "id": "0d4c6cbe-46f2-4880-bc75-11b6e51858be",
   "metadata": {},
   "source": [
    "use\n",
    "\n",
    "\n",
    "Different exceptional conditions may require different handling approaches. By creating custom exceptions, you can catch and handle them separately, "
   ]
  },
  {
   "cell_type": "code",
   "execution_count": 16,
   "id": "b6f4aeae-54fe-4ee0-a26b-c1b6029c483f",
   "metadata": {},
   "outputs": [
    {
     "name": "stdout",
     "output_type": "stream",
     "text": [
      "Error: Invalid email address provided: john.doe.com\n"
     ]
    }
   ],
   "source": [
    "class InvalidEmailError(Exception):\n",
    "    pass\n",
    "\n",
    "def send_email(email_address, message):\n",
    "    if '@' not in email_address:\n",
    "        raise InvalidEmailError(\"Invalid email address provided: {}\".format(email_address))\n",
    "\n",
    "try:\n",
    "    send_email(\"john.doe.com\", \"Hello!\")\n",
    "except InvalidEmailError as error:\n",
    "    print(\"Error:\", str(error))"
   ]
  },
  {
   "cell_type": "markdown",
   "id": "07665439-4f9e-4111-9f86-76ae34adafb2",
   "metadata": {},
   "source": [
    "create an custom exception class use this class to handle the exception"
   ]
  },
  {
   "cell_type": "code",
   "execution_count": 17,
   "id": "27289ec2-f5e7-43ff-8405-6057789265b8",
   "metadata": {},
   "outputs": [
    {
     "name": "stdout",
     "output_type": "stream",
     "text": [
      "Error: Invalid email address provided: john.doe.com\n"
     ]
    }
   ],
   "source": [
    "class InvalidEmailError(Exception):\n",
    "    pass\n",
    "\n",
    "def send_email(email_address, message):\n",
    "    if '@' not in email_address:\n",
    "        raise InvalidEmailError(\"Invalid email address provided: {}\".format(email_address))\n",
    "\n",
    "try:\n",
    "    send_email(\"john.doe.com\", \"Hello!\")\n",
    "except InvalidEmailError as error:\n",
    "    print(\"Error:\", str(error))"
   ]
  },
  {
   "cell_type": "code",
   "execution_count": null,
   "id": "b3b95b64-03d2-427b-b2d9-c859a12a90cc",
   "metadata": {},
   "outputs": [],
   "source": []
  }
 ],
 "metadata": {
  "kernelspec": {
   "display_name": "Python 3 (ipykernel)",
   "language": "python",
   "name": "python3"
  },
  "language_info": {
   "codemirror_mode": {
    "name": "ipython",
    "version": 3
   },
   "file_extension": ".py",
   "mimetype": "text/x-python",
   "name": "python",
   "nbconvert_exporter": "python",
   "pygments_lexer": "ipython3",
   "version": "3.10.8"
  }
 },
 "nbformat": 4,
 "nbformat_minor": 5
}
